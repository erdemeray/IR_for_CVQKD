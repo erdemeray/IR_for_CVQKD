{
 "cells": [
  {
   "cell_type": "markdown",
   "metadata": {},
   "source": [
    "# FER and BER Simulation Example for Fixed Rate"
   ]
  },
  {
   "cell_type": "markdown",
   "metadata": {},
   "source": [
    "This script simulates IR for Gaussian modulated CV-QKD system as described in [1]."
   ]
  },
  {
   "cell_type": "code",
   "execution_count": 1,
   "metadata": {},
   "outputs": [],
   "source": [
    "import sys\n",
    "sys.path.append('../build')"
   ]
  },
  {
   "cell_type": "markdown",
   "metadata": {},
   "source": [
    "Import the modules to be used:"
   ]
  },
  {
   "cell_type": "code",
   "execution_count": 2,
   "metadata": {},
   "outputs": [],
   "source": [
    "import information_reconciliation as ir\n",
    "import numpy as np\n",
    "import matplotlib.pyplot as plt\n",
    "import pickle as pkl"
   ]
  },
  {
   "cell_type": "markdown",
   "metadata": {},
   "source": [
    "Define the simulation variables"
   ]
  },
  {
   "cell_type": "code",
   "execution_count": 3,
   "metadata": {},
   "outputs": [],
   "source": [
    "N = 1e8\n",
    "max_decoding_iteration = 500\n",
    "d = 8 # Reconciliation dimension\n",
    "code_rate = 0.2\n",
    "SNR_min = -4.75\n",
    "SNR_max = -4.45\n",
    "total_error_count = 256 # Total number of frame errors"
   ]
  },
  {
   "cell_type": "markdown",
   "metadata": {},
   "source": [
    "Run the simulation"
   ]
  },
  {
   "cell_type": "code",
   "execution_count": 4,
   "metadata": {},
   "outputs": [
    {
     "name": "stdout",
     "output_type": "stream",
     "text": [
      "SNR:  -4.75 dB  FER:  0.99100  BER:  0.24687\n",
      "SNR:  -4.70 dB  FER:  0.92600  BER:  0.22158\n",
      "SNR:  -4.65 dB  FER:  0.72700  BER:  0.16325\n",
      "SNR:  -4.60 dB  FER:  0.46900  BER:  0.09713\n",
      "SNR:  -4.55 dB  FER:  0.17700  BER:  0.03710\n",
      "SNR:  -4.50 dB  FER:  0.05160  BER:  0.01050\n"
     ]
    }
   ],
   "source": [
    "statistics_array = []\n",
    "display=ir.print() # Display object for printing statistics\n",
    "\n",
    "for SNR in np.arange(SNR_min, SNR_max, 0.05):\n",
    "    statistics_total = ir.statistics()\n",
    "    sigma_square = 10**(-SNR/10) #noise variance\n",
    "\n",
    "    while statistics_total.get_total_frame_error_count()<total_error_count:\n",
    "        X = np.random.normal(0, 1, int(N))\n",
    "        Y = X + np.sqrt(sigma_square)*np.random.normal(0, 1, int(N))\n",
    "\n",
    "        stats = ir.reconcile(alice_states=X, bob_states= Y, rate= code_rate, noise_variance = sigma_square, NoI=max_decoding_iteration, MDR_dim= d, fast_decoding= 1, layered_decoding= 1)\n",
    "        \n",
    "        statistics_total = statistics_total + stats\n",
    "    \n",
    "    statistics_array.append(statistics_total)\n",
    "    print(\"SNR: \", \"{:.2f}\".format(SNR), \"dB  FER: \", \"{:.5f}\".format(statistics_total.get_frame_error_rate()), \" BER: \", \"{:.5f}\".format(statistics_total.get_bit_error_rate()))"
   ]
  },
  {
   "cell_type": "markdown",
   "metadata": {},
   "source": [
    "[1] E. E. Cil and L. Schmalen, _\"An open-source library for information reconciliation in continuous-variable QKD,\"_ Proc. International Conference on Quantum Cryptography (QCRYPT), Vigo, Spain, Sep. 2024, poster presentation"
   ]
  }
 ],
 "metadata": {
  "kernelspec": {
   "display_name": "base",
   "language": "python",
   "name": "python3"
  },
  "language_info": {
   "codemirror_mode": {
    "name": "ipython",
    "version": 3
   },
   "file_extension": ".py",
   "mimetype": "text/x-python",
   "name": "python",
   "nbconvert_exporter": "python",
   "pygments_lexer": "ipython3",
   "version": "3.9.19"
  }
 },
 "nbformat": 4,
 "nbformat_minor": 2
}
