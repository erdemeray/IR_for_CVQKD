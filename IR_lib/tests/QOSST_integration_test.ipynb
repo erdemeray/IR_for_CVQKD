{
 "cells": [
  {
   "cell_type": "markdown",
   "metadata": {},
   "source": [
    "# Test Script for QOSST Integration"
   ]
  },
  {
   "cell_type": "markdown",
   "metadata": {},
   "source": [
    "This script simulates IR for Gaussian modulated / 4-state modulated CV-QKD system as described in [1] for fixed reconciliation efficiency $\\beta$."
   ]
  },
  {
   "cell_type": "code",
   "execution_count": 6,
   "metadata": {},
   "outputs": [],
   "source": [
    "import sys\n",
    "sys.path.append('../build')"
   ]
  },
  {
   "cell_type": "markdown",
   "metadata": {},
   "source": [
    "Import the modules to be used:"
   ]
  },
  {
   "cell_type": "code",
   "execution_count": 5,
   "metadata": {},
   "outputs": [],
   "source": [
    "import information_reconciliation as ir\n",
    "import numpy as np\n",
    "\n",
    "#AWGN channel capacity\n",
    "def capacity(SNR): \n",
    "    return 0.5 * np.log2(1 + (10**(SNR/10)))"
   ]
  },
  {
   "cell_type": "markdown",
   "metadata": {},
   "source": [
    "Define the simulation variables"
   ]
  },
  {
   "cell_type": "code",
   "execution_count": 7,
   "metadata": {},
   "outputs": [],
   "source": [
    "N = 2e7 # Number of quantum states to be sent\n",
    "d = 8 # MDR dimension (can be set in the parameter file)\n",
    "rate = 0.2 # code rate of the error correction code. The library uses the reconciliation efficiency, but for the sake of this example we will use the code rate\n",
    "SNR_min = -4.75\n",
    "SNR_max = -4.45\n",
    "total_error_count = 256 # Total number of frame errors"
   ]
  },
  {
   "cell_type": "markdown",
   "metadata": {},
   "source": [
    "Run the simulation"
   ]
  },
  {
   "cell_type": "code",
   "execution_count": 8,
   "metadata": {},
   "outputs": [
    {
     "name": "stdout",
     "output_type": "stream",
     "text": [
      "SNR:  -4.75 dB  FER:  0.98750 Simulated error count:  395 Simulated frames:  400\n",
      "SNR:  -4.70 dB  FER:  0.92000 Simulated error count:  368 Simulated frames:  400\n",
      "SNR:  -4.65 dB  FER:  0.78750 Simulated error count:  315 Simulated frames:  400\n",
      "SNR:  -4.60 dB  FER:  0.47167 Simulated error count:  283 Simulated frames:  600\n",
      "SNR:  -4.55 dB  FER:  0.19429 Simulated error count:  272 Simulated frames:  1400\n",
      "SNR:  -4.50 dB  FER:  0.06000 Simulated error count:  264 Simulated frames:  4400\n"
     ]
    }
   ],
   "source": [
    "\n",
    "for SNR in np.arange(SNR_min, SNR_max, 0.05):\n",
    "    simulated_error_count = 0\n",
    "    beta = rate/capacity(SNR) # the library uses the reconciliation efficiency instead of the rate\n",
    "    sigma_square = 10**(-SNR/10) # needed for quantum channel simulation\n",
    "    simulated_frames = 0\n",
    "    \n",
    "    while simulated_error_count<total_error_count:\n",
    "        #sample the transmitted states as Gaussian\n",
    "        X = np.random.normal(0, 1, int(N))\n",
    "        \n",
    "        #sample the transmitted states as 4-state (BPSK modulated)\n",
    "        #X = np.random.choice([1, -1], int(N)) \n",
    "        \n",
    "        #Quantum channel\n",
    "        Y = X + np.sqrt(sigma_square)*np.random.normal(0, 1, int(N))\n",
    "\n",
    "        #Step 1: Bob does MDR\n",
    "        [channel_message,syndrome, normalization_vector, raw_key] = ir.reconcile_Bob(bob_states=Y, beta=beta, SNR=SNR, MDR_dim=d)\n",
    "        \n",
    "        #Step 2: Bob sends the classical channel message, syndrome and the normalization vector to Alice\n",
    "        \n",
    "        #Step 3: Alice does MDR with the classical channel message, syndrome, and normalization vector. CRC_Alice is the CRC of the decoded frames. Discard_flag is a boolean array that indicates whether the corresponding frame could be decoded. Decoded frames are the frames that the decoder converged. We assume that the signal to noise ratio is known to Alice and Bob.\n",
    "        [CRC_Alice, discard_flag, decoded_frames] = ir.reconcile_Alice(alice_states=X, classical_channel_message=channel_message, syndrome=syndrome, normalization_vector=normalization_vector, SNR=SNR, MDR_dim=d)\n",
    "        \n",
    "        num_of_frames=len(discard_flag)\n",
    "        \n",
    "        #Step 4: Alice sends the CRC_Alice and discard_flag to Bob\n",
    "        \n",
    "        #Step 5: Bob compares the CRCs of the decoded frames and the raw keys. If they match, the frames are kept, otherwise they are discarded. \n",
    "        [final_discard_flag, Bob_final_keys] = ir.CRC_check_Bob(raw_keys=raw_key, CRC_Alice=CRC_Alice, discard_flag=discard_flag)\n",
    "        \n",
    "        #Step 6: Bob sends the final_discard_flag to Alice. It includes both the frames that could not be decoded by Alice and the frames that were discarded in the CRC check.\n",
    "        \n",
    "        #Step 7: Alice discards the frames that Bob discarded\n",
    "        Alice_final_keys = [frame for frame, flag in zip(decoded_frames, final_discard_flag) if flag == 0]\n",
    "        \n",
    "        #Safety check 1: Compare the keys of the Alice and Bob and make sure that they are the same\n",
    "        Alice_final_keys_np = np.array(Alice_final_keys)\n",
    "        Bob_final_keys_np = np.array(Bob_final_keys)\n",
    "        \n",
    "        if np.array_equal(Alice_final_keys_np, Bob_final_keys_np):\n",
    "            pass\n",
    "        else:\n",
    "            print(\"Error\")\n",
    "            break\n",
    "        \n",
    "        #Safety Check 2: Count the number of errors to compare it with the Fig.2 in [1]\n",
    "        simulated_error_count += sum(final_discard_flag)\n",
    "        simulated_frames += num_of_frames\n",
    "                \n",
    "    print(\"SNR: \", \"{:.2f}\".format(SNR), \"dB  FER: \", \"{:.5f}\".format((simulated_error_count/simulated_frames)), \"Simulated error count: \", simulated_error_count, \"Simulated frames: \", simulated_frames)"
   ]
  },
  {
   "cell_type": "markdown",
   "metadata": {},
   "source": [
    "[1] E. E. Cil and L. Schmalen, _\"An open-source library for information reconciliation in continuous-variable QKD,\"_ Proc. International Conference on Quantum Cryptography (QCRYPT), Vigo, Spain, Sep. 2024, poster presentation"
   ]
  }
 ],
 "metadata": {
  "kernelspec": {
   "display_name": "IR_lib",
   "language": "python",
   "name": "python3"
  },
  "language_info": {
   "codemirror_mode": {
    "name": "ipython",
    "version": 3
   },
   "file_extension": ".py",
   "mimetype": "text/x-python",
   "name": "python",
   "nbconvert_exporter": "python",
   "pygments_lexer": "ipython3",
   "version": "3.9.19"
  }
 },
 "nbformat": 4,
 "nbformat_minor": 2
}
