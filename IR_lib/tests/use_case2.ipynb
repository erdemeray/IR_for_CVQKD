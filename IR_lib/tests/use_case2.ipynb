{
 "cells": [
  {
   "cell_type": "code",
   "execution_count": 2,
   "metadata": {},
   "outputs": [],
   "source": [
    "import sys\n",
    "sys.path.append('../build')\n",
    "\n",
    "import os\n",
    "if os.name == 'nt':\n",
    "    os.add_dll_directory('C:\\\\Windows\\\\SysWOW64')"
   ]
  },
  {
   "cell_type": "markdown",
   "metadata": {},
   "source": [
    "Import the modules to be used:"
   ]
  },
  {
   "cell_type": "code",
   "execution_count": 3,
   "metadata": {},
   "outputs": [],
   "source": [
    "import information_reconciliation as ir\n",
    "import numpy as np\n",
    "import matplotlib.pyplot as plt\n",
    "import pickle as pkl"
   ]
  },
  {
   "cell_type": "markdown",
   "metadata": {},
   "source": [
    "Define the variables to required for reconciliation."
   ]
  },
  {
   "cell_type": "code",
   "execution_count": null,
   "metadata": {},
   "outputs": [],
   "source": [
    "N = 1.6e7\n",
    "max_decoding_iteration = 500\n",
    "d = 8 # Reconciliation dimension\n",
    "code_rate = 0.2\n",
    "SNR_min = -4.8\n",
    "SNR_max = -4.45\n",
    "total_error_count = 256 # Total number of frame errors"
   ]
  },
  {
   "cell_type": "code",
   "execution_count": null,
   "metadata": {},
   "outputs": [],
   "source": [
    "statistics_array = []\n",
    "display=ir.print() # Display object for printing statistics\n",
    "\n",
    "for SNR in np.arange(SNR_min, SNR_max, 0.05):\n",
    "    statistics_total = ir.statistics()\n",
    "    sigma_square = 10**(-SNR/10) #noise variance\n",
    "\n",
    "\n",
    "    while statistics_total.get_total_frame_error_count()<total_error_count:\n",
    "        X = np.random.normal(0, 1, int(N))\n",
    "        Y = X + np.sqrt(sigma_square)*np.random.normal(0, 1, int(N))\n",
    "\n",
    "        stats = ir.reconcile(alice_states=X, bob_states= Y, rate= code_rate, noise_variance = sigma_square, NoI=max_decoding_iteration, MDR_dim= d, fast_decoding= 1, layered_decoding= 1)\n",
    "        \n",
    "        statistics_total = statistics_total + stats\n",
    "    \n",
    "    statistics_array.append(statistics_total)"
   ]
  },
  {
   "cell_type": "markdown",
   "metadata": {},
   "source": [
    "Save the simulation results"
   ]
  },
  {
   "cell_type": "code",
   "execution_count": 4,
   "metadata": {},
   "outputs": [],
   "source": [
    "def save_object(obj, filename):\n",
    "    with open(filename, 'wb') as outp:  # Overwrites any existing file.\n",
    "        pkl.dump(obj, outp, pkl.HIGHEST_PROTOCOL)"
   ]
  },
  {
   "cell_type": "code",
   "execution_count": null,
   "metadata": {},
   "outputs": [],
   "source": [
    "save_object(statistics_array, 'statistics_array.pkl')\n",
    "save_object(np.arange(SNR_min, SNR_max, 0.05), 'SNR_array.pkl')"
   ]
  },
  {
   "cell_type": "markdown",
   "metadata": {},
   "source": [
    "Plot the simulation results"
   ]
  },
  {
   "cell_type": "code",
   "execution_count": null,
   "metadata": {},
   "outputs": [],
   "source": [
    "plt.figure()\n",
    "plt.plot(np.arange(SNR_min, SNR_max, 0.05),[statistics_array[i].get_frame_error_rate() for i in range(len(statistics_array))], label='FER')\n",
    "plt.plot(np.arange(SNR_min, SNR_max, 0.05),[statistics_array[i].get_bit_error_rate() for i in range(len(statistics_array))], linestyle='dashed', label='BER')\n",
    "plt.yscale('log')\n",
    "plt.xlabel('SNR [dB]')\n",
    "plt.ylabel('FER / BER')\n",
    "plt.legend()\n",
    "plt.grid()\n",
    "plt.show()"
   ]
  }
 ],
 "metadata": {
  "kernelspec": {
   "display_name": "base",
   "language": "python",
   "name": "python3"
  },
  "language_info": {
   "codemirror_mode": {
    "name": "ipython",
    "version": 3
   },
   "file_extension": ".py",
   "mimetype": "text/x-python",
   "name": "python",
   "nbconvert_exporter": "python",
   "pygments_lexer": "ipython3",
   "version": "3.8.10"
  }
 },
 "nbformat": 4,
 "nbformat_minor": 2
}
