{
 "cells": [
  {
   "cell_type": "markdown",
   "metadata": {},
   "source": [
    "# FER and BER Simulation Example for Fixed Reconciliation Efficiency"
   ]
  },
  {
   "cell_type": "markdown",
   "metadata": {},
   "source": [
    "This script simulates IR for Gaussian modulated / 4-state modulated CV-QKD system as described in [1] for fixed reconciliation efficiency $\\beta$."
   ]
  },
  {
   "cell_type": "code",
   "execution_count": null,
   "metadata": {},
   "outputs": [],
   "source": [
    "import sys\n",
    "sys.path.append('../build')"
   ]
  },
  {
   "cell_type": "markdown",
   "metadata": {},
   "source": [
    "Import the modules to be used:"
   ]
  },
  {
   "cell_type": "code",
   "execution_count": null,
   "metadata": {},
   "outputs": [],
   "source": [
    "import information_reconciliation as ir\n",
    "import numpy as np\n",
    "import matplotlib.pyplot as plt\n",
    "\n",
    "def capacity(SNR):\n",
    "    return 0.5 * np.log2(1 + np.pow(10, SNR/10))"
   ]
  },
  {
   "cell_type": "markdown",
   "metadata": {},
   "source": [
    "Define the simulation variables"
   ]
  },
  {
   "cell_type": "code",
   "execution_count": null,
   "metadata": {},
   "outputs": [],
   "source": [
    "N = 1e8\n",
    "max_decoding_iteration = 500\n",
    "d = 8 # Reconciliation dimension\n",
    "beta = 0.96\n",
    "SNR_min = -18.2\n",
    "SNR_max = -4.6\n",
    "total_error_count = 256 # Total number of frame errors"
   ]
  },
  {
   "cell_type": "markdown",
   "metadata": {},
   "source": [
    "Run the simulation"
   ]
  },
  {
   "cell_type": "code",
   "execution_count": null,
   "metadata": {},
   "outputs": [],
   "source": [
    "statistics_array = []\n",
    "\n",
    "for SNR in np.arange(SNR_min, SNR_max, 0.2):\n",
    "    statistics_total = ir.statistics()\n",
    "    sigma_square = 10**(-SNR/10) #noise variance\n",
    "    code_rate = beta * capacity(SNR)\n",
    "\n",
    "    while statistics_total.get_total_frame_error_count()<total_error_count:\n",
    "        #sample the transmitted states as Gaussian\n",
    "        X = np.random.normal(0, 1, int(N))\n",
    "        \n",
    "        #sample the transmitted states as 4-state (BPSK modulated)\n",
    "        #X = np.random.choice([1, -1], int(N)) \n",
    "        \n",
    "        Y = X + np.sqrt(sigma_square)*np.random.normal(0, 1, int(N))\n",
    "\n",
    "        stats = ir.reconcile(alice_states=X, bob_states= Y, rate= code_rate, noise_variance = sigma_square, NoI=max_decoding_iteration, MDR_dim= d, fast_decoding= 1, layered_decoding= 1)\n",
    "        \n",
    "        statistics_total = statistics_total + stats\n",
    "    \n",
    "    statistics_array.append(statistics_total)\n",
    "    print(\"SNR: \", \"{:.2f}\".format(SNR), \"dB  FER: \", \"{:.5f}\".format(statistics_total.get_frame_error_rate()), \" BER: \", \"{:.5f}\".format(statistics_total.get_bit_error_rate()), \" Rate: \", \"{:.5f}\".format(code_rate))"
   ]
  },
  {
   "cell_type": "markdown",
   "metadata": {},
   "source": [
    "[1] E. E. Cil and L. Schmalen, _\"An open-source library for information reconciliation in continuous-variable QKD,\"_ Proc. International Conference on Quantum Cryptography (QCRYPT), Vigo, Spain, Sep. 2024, poster presentation"
   ]
  }
 ],
 "metadata": {
  "kernelspec": {
   "display_name": "base",
   "language": "python",
   "name": "python3"
  },
  "language_info": {
   "codemirror_mode": {
    "name": "ipython",
    "version": 3
   },
   "file_extension": ".py",
   "mimetype": "text/x-python",
   "name": "python",
   "nbconvert_exporter": "python",
   "pygments_lexer": "ipython3",
   "version": "3.9.19"
  }
 },
 "nbformat": 4,
 "nbformat_minor": 2
}
